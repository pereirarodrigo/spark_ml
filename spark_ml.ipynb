{
 "cells": [
  {
   "cell_type": "markdown",
   "id": "funny-premiere",
   "metadata": {},
   "source": [
    "# Machine learning with PySpark\n",
    "##### Applying machine learning in a distributed computing environment.\n",
    "***\n",
    "The goal of this project is to use PySpark and a decision tree to predict whether or not a guest will cancel their stay at a hotel."
   ]
  },
  {
   "cell_type": "code",
   "execution_count": 1,
   "id": "satisfied-lesson",
   "metadata": {},
   "outputs": [],
   "source": [
    "from pyspark.sql import SparkSession\n",
    "from pyspark.sql.functions import isnan, when, count, col\n",
    "from pyspark.ml import Pipeline\n",
    "from pyspark.ml.feature import StringIndexer, VectorAssembler\n",
    "from pyspark.ml.classification import DecisionTreeClassifier"
   ]
  },
  {
   "cell_type": "code",
   "execution_count": 2,
   "id": "forced-search",
   "metadata": {},
   "outputs": [],
   "source": [
    "# Creating a Spark session using all available cores\n",
    "# Note: there must be no space after '\\'\n",
    "\n",
    "spark = SparkSession.builder \\\n",
    "                    .master(\"local[*]\") \\\n",
    "                    .appName(\"spark_analysis\") \\\n",
    "                    .getOrCreate()"
   ]
  },
  {
   "cell_type": "code",
   "execution_count": null,
   "id": "937c51b0-9728-4e66-b64d-73f53af234c4",
   "metadata": {},
   "outputs": [],
   "source": [
    "# Downloading the cleaned hotel bookings dataset\n",
    "\n",
    "!kaggle datasets download -d rpereiracruz/cleaned-hotel-bookings\n",
    "!unzip cleaned-hotel-bookings.zip\n",
    "!rm cleaned-hotel-bookings.zip"
   ]
  },
  {
   "cell_type": "code",
   "execution_count": 4,
   "id": "elegant-snapshot",
   "metadata": {},
   "outputs": [
    {
     "name": "stdout",
     "output_type": "stream",
     "text": [
      "root\n",
      " |-- hotel: string (nullable = true)\n",
      " |-- is_canceled: integer (nullable = true)\n",
      " |-- lead_time: integer (nullable = true)\n",
      " |-- arrival_date: string (nullable = true)\n",
      " |-- arrival_date_week_number: integer (nullable = true)\n",
      " |-- stays_in_weekend_nights: integer (nullable = true)\n",
      " |-- stays_in_week_nights: integer (nullable = true)\n",
      " |-- adults: integer (nullable = true)\n",
      " |-- children: integer (nullable = true)\n",
      " |-- babies: integer (nullable = true)\n",
      " |-- meal: string (nullable = true)\n",
      " |-- country: string (nullable = true)\n",
      " |-- market_segment: string (nullable = true)\n",
      " |-- distribution_channel: string (nullable = true)\n",
      " |-- is_repeated_guest: integer (nullable = true)\n",
      " |-- previous_cancellations: integer (nullable = true)\n",
      " |-- previous_bookings_not_canceled: integer (nullable = true)\n",
      " |-- reserved_room_type: string (nullable = true)\n",
      " |-- assigned_room_type: string (nullable = true)\n",
      " |-- booking_changes: integer (nullable = true)\n",
      " |-- deposit_type: string (nullable = true)\n",
      " |-- agent: integer (nullable = true)\n",
      " |-- company: integer (nullable = true)\n",
      " |-- days_in_waiting_list: integer (nullable = true)\n",
      " |-- customer_type: string (nullable = true)\n",
      " |-- adr: double (nullable = true)\n",
      " |-- required_car_parking_spaces: integer (nullable = true)\n",
      " |-- total_of_special_requests: integer (nullable = true)\n",
      " |-- reservation_status: string (nullable = true)\n",
      " |-- reservation_status_date: string (nullable = true)\n",
      "\n"
     ]
    }
   ],
   "source": [
    "# Reading the dataset\n",
    "\n",
    "file_path = \"cleaned_hotel_bookings.csv\"\n",
    "hotel_bookings = spark.read.csv(file_path, \n",
    "                               header=True,\n",
    "                               sep=',',\n",
    "                               inferSchema=True, \n",
    "                               nullValue=\"NA\") \n",
    "\n",
    "hotel_bookings = hotel_bookings.drop(\"_c0\")\n",
    "\n",
    "# Taking a look at the results\n",
    "hotel_bookings.printSchema()\n",
    "#hotel_bookings.show()\n",
    "\n",
    "# DEBUG\n",
    "#print(f\"Number of records: {hotel_bookings.count()}\")\n",
    "#print(f\"Column types: {hotel_bookings.dtypes}\")\n",
    "\n",
    "# **DEBUG: printing the number of null values per column\n",
    "#null_values = {col:hotel_bookings.filter(hotel_bookings[col].isNull()).count() for col in hotel_bookings.columns}\n",
    "#null_values"
   ]
  },
  {
   "cell_type": "code",
   "execution_count": 81,
   "id": "absent-bachelor",
   "metadata": {},
   "outputs": [],
   "source": [
    "# Dealing with the categorical variables that will be used\n",
    "\n",
    "cols = [\"hotel\", \"deposit_type\", \"days_in_waiting_list\", \"reservation_status\", \"reserved_room_type\", \"assigned_room_type\",\n",
    "        \"customer_type\", \"country\"]\n",
    "\n",
    "indexers = [StringIndexer(inputCol=column, outputCol=column+\"_index\").fit(hotel_bookings) for column in cols] \n",
    "\n",
    "pipeline = Pipeline(stages=indexers)\n",
    "hotel_bookings_cl = pipeline.fit(hotel_bookings).transform(hotel_bookings)"
   ]
  },
  {
   "cell_type": "code",
   "execution_count": 94,
   "id": "continuing-consequence",
   "metadata": {},
   "outputs": [],
   "source": [
    "# Identifying and selecting the features in the dataframe\n",
    "\n",
    "idx_cols = [x for x in hotel_bookings_cl.columns if x.endswith(\"_index\")]\n",
    "feature_cols = [\"is_repeated_guest\", \"booking_changes\", \"adr\", \"agent\", \"company\",\n",
    "                \"previous_cancellations\", \"previous_bookings_not_canceled\"]\n",
    "\n",
    "assembler = VectorAssembler(inputCols=feature_cols, outputCol=\"features\")\n",
    "\n",
    "training_data = assembler.transform(hotel_bookings_cl)"
   ]
  },
  {
   "cell_type": "code",
   "execution_count": 95,
   "id": "dirty-blanket",
   "metadata": {},
   "outputs": [
    {
     "data": {
      "text/plain": [
       "DataFrame[hotel: string, is_canceled: int, lead_time: int, arrival_date: string, arrival_date_week_number: int, stays_in_weekend_nights: int, stays_in_week_nights: int, adults: int, children: int, babies: int, meal: string, country: string, market_segment: string, distribution_channel: string, is_repeated_guest: int, previous_cancellations: int, previous_bookings_not_canceled: int, reserved_room_type: string, assigned_room_type: string, booking_changes: int, deposit_type: string, agent: int, company: int, days_in_waiting_list: int, customer_type: string, adr: double, required_car_parking_spaces: int, total_of_special_requests: int, reservation_status: string, reservation_status_date: string, hotel_index: double, deposit_type_index: double, days_in_waiting_list_index: double, reservation_status_index: double, reserved_room_type_index: double, assigned_room_type_index: double, customer_type_index: double, country_index: double, features: vector]"
      ]
     },
     "execution_count": 95,
     "metadata": {},
     "output_type": "execute_result"
    }
   ],
   "source": [
    "# Splitting the data into train and test sets\n",
    "\n",
    "hotel_train, hotel_test = training_data.randomSplit([0.75, 0.25], seed=40)\n",
    "\n",
    "hotel_train"
   ]
  },
  {
   "cell_type": "code",
   "execution_count": 108,
   "id": "israeli-willow",
   "metadata": {},
   "outputs": [
    {
     "name": "stdout",
     "output_type": "stream",
     "text": [
      "+------------+-----------+----------+--------------------------------------+\n",
      "|hotel       |is_canceled|prediction|probability                           |\n",
      "+------------+-----------+----------+--------------------------------------+\n",
      "|Resort Hotel|0          |0.0       |[0.66181174387725,0.33818825612275005]|\n",
      "|Resort Hotel|0          |0.0       |[0.66181174387725,0.33818825612275005]|\n",
      "|Resort Hotel|0          |0.0       |[0.66181174387725,0.33818825612275005]|\n",
      "|Resort Hotel|0          |0.0       |[0.66181174387725,0.33818825612275005]|\n",
      "|Resort Hotel|0          |0.0       |[0.66181174387725,0.33818825612275005]|\n",
      "+------------+-----------+----------+--------------------------------------+\n",
      "only showing top 5 rows\n",
      "\n"
     ]
    }
   ],
   "source": [
    "# Creating and fitting the decision tree model\n",
    "\n",
    "tree = DecisionTreeClassifier(labelCol=\"is_canceled\")\n",
    "\n",
    "tree_model = tree.fit(hotel_train)\n",
    "\n",
    "# Making predictions\n",
    "predict = tree_model.transform(hotel_test)\n",
    "\n",
    "predict.select(\"hotel\", \"is_canceled\", \"prediction\", \"probability\").show(5, False)\n"
   ]
  },
  {
   "cell_type": "code",
   "execution_count": null,
   "id": "incorrect-caution",
   "metadata": {},
   "outputs": [],
   "source": [
    "# Closing the connection with Spark\n",
    "\n",
    "spark.stop()"
   ]
  }
 ],
 "metadata": {
  "kernelspec": {
   "display_name": "Python 3",
   "language": "python",
   "name": "python3"
  },
  "language_info": {
   "codemirror_mode": {
    "name": "ipython",
    "version": 3
   },
   "file_extension": ".py",
   "mimetype": "text/x-python",
   "name": "python",
   "nbconvert_exporter": "python",
   "pygments_lexer": "ipython3",
   "version": "3.8.8"
  }
 },
 "nbformat": 4,
 "nbformat_minor": 5
}
